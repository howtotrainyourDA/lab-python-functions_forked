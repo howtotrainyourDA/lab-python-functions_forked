{
 "cells": [
  {
   "cell_type": "markdown",
   "id": "25d7736c-ba17-4aff-b6bb-66eba20fbf4e",
   "metadata": {},
   "source": [
    "# Lab | Functions"
   ]
  },
  {
   "cell_type": "markdown",
   "id": "0c581062-8967-4d93-b06e-62833222f930",
   "metadata": {
    "tags": []
   },
   "source": [
    "## Exercise: Managing Customer Orders with Functions\n",
    "\n",
    "In the previous exercise, you improved the code for managing customer orders by using loops and flow control. Now, let's take it a step further and refactor the code by introducing functions.\n",
    "\n",
    "Follow the steps below to complete the exercise:\n",
    "\n",
    "1. Define a function named `initialize_inventory` that takes `products` as a parameter. Inside the function, implement the code for initializing the inventory dictionary using a loop and user input.\n",
    "\n",
    "2. Define a function named `get_customer_orders` that takes no parameters. Inside the function, implement the code for prompting the user to enter the product names using a loop. The function should return the `customer_orders` set.\n",
    "\n",
    "3. Define a function named `update_inventory` that takes `customer_orders` and `inventory` as parameters. Inside the function, implement the code for updating the inventory dictionary based on the customer orders.\n",
    "\n",
    "4. Define a function named `calculate_order_statistics` that takes `customer_orders` and `products` as parameters. Inside the function, implement the code for calculating the order statistics (total products ordered, and percentage of unique products ordered). The function should return these values.\n",
    "\n",
    "5. Define a function named `print_order_statistics` that takes `order_statistics` as a parameter. Inside the function, implement the code for printing the order statistics.\n",
    "\n",
    "6. Define a function named `print_updated_inventory` that takes `inventory` as a parameter. Inside the function, implement the code for printing the updated inventory.\n",
    "\n",
    "7. Call the functions in the appropriate sequence to execute the program and manage customer orders.\n",
    "\n",
    "Hints for functions:\n",
    "\n",
    "- Consider the input parameters required for each function and their return values.\n",
    "- Utilize function parameters and return values to transfer data between functions.\n",
    "- Test your functions individually to ensure they work correctly.\n",
    "\n",
    "\n"
   ]
  },
  {
   "cell_type": "code",
   "execution_count": null,
   "id": "9adbf4f9-0f52-4157-aff8-7db74eb9b91b",
   "metadata": {},
   "outputs": [],
   "source": []
  },
  {
   "cell_type": "code",
   "execution_count": 117,
   "id": "d7d311e1-b807-4c5b-adc6-19744d76c7f9",
   "metadata": {
    "scrolled": true
   },
   "outputs": [
    {
     "name": "stdin",
     "output_type": "stream",
     "text": [
      "Please add products mug\n",
      "Please enter amount for mug. 4\n",
      "Do you want to add more? no\n"
     ]
    },
    {
     "data": {
      "text/plain": [
       "{'mug': 4}"
      ]
     },
     "execution_count": 117,
     "metadata": {},
     "output_type": "execute_result"
    }
   ],
   "source": [
    "final_products = []\n",
    "inventory = {}\n",
    "\n",
    "want_products = True\n",
    "\n",
    "def initialize_inventory(products):\n",
    "    for item in products.split():\n",
    "        amount = int(input(f\"Please enter amount for {item}.\"))\n",
    "        inventory[item] = amount\n",
    "        final_products.append(item)\n",
    "        \n",
    "    choice = input(\"Do you want to add more?\")\n",
    "          \n",
    "    if choice == \"yes\":\n",
    "        more_products = input(\"Please add more products\").lower().strip()\n",
    "        initialize_inventory(more_products)    \n",
    "    else:\n",
    "        return products\n",
    "        return inventory\n",
    "        \n",
    "products = input(\"Please add products\").lower().strip()           \n",
    "initialize_inventory(products)\n",
    "\n",
    "inventory\n",
    "    \n",
    "\n"
   ]
  },
  {
   "cell_type": "code",
   "execution_count": 118,
   "id": "ce75a3e3-74f1-4adb-9dfc-2134446c00eb",
   "metadata": {},
   "outputs": [],
   "source": [
    "#4.\n",
    "\n",
    "\n",
    "customer_orders = {}\n"
   ]
  },
  {
   "cell_type": "code",
   "execution_count": 136,
   "id": "d7c59e62-967d-4062-86b1-6a311dbbbc00",
   "metadata": {},
   "outputs": [
    {
     "name": "stdin",
     "output_type": "stream",
     "text": [
      "What products do you want to order? We have: \n",
      " {'mug': 0} mug\n",
      "Do you want to order more? no\n",
      "How many mug do you want to buy? 5\n"
     ]
    },
    {
     "name": "stdout",
     "output_type": "stream",
     "text": [
      "{'mug': 5}\n"
     ]
    }
   ],
   "source": [
    "#5. \n",
    "\n",
    "#7. \n",
    "\n",
    "def get_customer_order():\n",
    "    customer_selection = input(f\"What products do you want to order? We have: \\n {inventory}\").split()\n",
    "    choice = input(\"Do you want to order more?\")\n",
    "    \n",
    "    if choice == \"yes\":\n",
    "        get_customer_order()\n",
    "    \n",
    "    for products in customer_selection:\n",
    "        customer_amount = int(input(f\"How many {products} do you want to buy?\"))\n",
    "        customer_orders[products] = customer_amount\n",
    "    \n",
    "    return customer_orders\n",
    "    \n",
    "        \n",
    "get_customer_order()        \n",
    "print(customer_orders)"
   ]
  },
  {
   "cell_type": "code",
   "execution_count": 138,
   "id": "f3a19bd1-a8d6-49b4-9a9c-057cc4567482",
   "metadata": {},
   "outputs": [
    {
     "data": {
      "text/plain": [
       "{'mug': -5}"
      ]
     },
     "execution_count": 138,
     "metadata": {},
     "output_type": "execute_result"
    }
   ],
   "source": [
    "\n",
    "def updated_inventory(customer_orders, inventory):\n",
    "    for key, value in customer_orders.items():\n",
    "        inventory[key] = inventory[key] - value    \n",
    "    return inventory\n",
    "    \n",
    "updated_inventory(customer_orders, inventory)"
   ]
  },
  {
   "cell_type": "code",
   "execution_count": 140,
   "id": "df280a9b-6503-4938-823a-de981690a097",
   "metadata": {
    "scrolled": true
   },
   "outputs": [
    {
     "data": {
      "text/plain": [
       "-100.0"
      ]
     },
     "execution_count": 140,
     "metadata": {},
     "output_type": "execute_result"
    }
   ],
   "source": [
    "#7. \n",
    "def calculate_order_statistics(customer_orders, products):\n",
    "    total_amount = 0\n",
    "    total_amount_ordered = 0\n",
    "    for key, value in customer_orders.items():\n",
    "        total_amount_ordered += value\n",
    "    for key, value in inventory.items():\n",
    "        total_amount += value\n",
    "    \n",
    "    order_status = (total_amount_ordered / total_amount) *100\n",
    "    return order_status\n",
    "    return total_amount_ordered\n",
    "    \n",
    "calculate_order_statistics(customer_orders, final_products)"
   ]
  },
  {
   "cell_type": "code",
   "execution_count": 142,
   "id": "88f41ece-701e-4668-ad2b-407a88449ac9",
   "metadata": {},
   "outputs": [
    {
     "name": "stdout",
     "output_type": "stream",
     "text": [
      "You have ordered 0 products which makes  50.00 of the total\n"
     ]
    }
   ],
   "source": [
    "order_statistics = 0\n",
    "def print_order_statistics(order_statistics):\n",
    "    print(f\"You have ordered {total_amount_ordered} products which makes {order_status: .2f} of the total\")\n",
    "\n",
    "    \n",
    "\n",
    "\n",
    "print_order_statistics(order_statistics)\n",
    "    "
   ]
  },
  {
   "cell_type": "code",
   "execution_count": 144,
   "id": "54749162-1d2a-4239-8ffd-f154e3899ce7",
   "metadata": {},
   "outputs": [
    {
     "name": "stdout",
     "output_type": "stream",
     "text": [
      "This is the new inventory: {'mug': -5}\n"
     ]
    }
   ],
   "source": [
    "def print_updated_inventory(inventory):\n",
    "    print(f\"This is the new inventory: {inventory}\")\n",
    "\n",
    "print_updated_inventory(inventory)"
   ]
  },
  {
   "cell_type": "code",
   "execution_count": null,
   "id": "81e187b6-2035-4abb-8ce3-6d71fa2634af",
   "metadata": {},
   "outputs": [],
   "source": []
  }
 ],
 "metadata": {
  "kernelspec": {
   "display_name": "Python 3 (ipykernel)",
   "language": "python",
   "name": "python3"
  },
  "language_info": {
   "codemirror_mode": {
    "name": "ipython",
    "version": 3
   },
   "file_extension": ".py",
   "mimetype": "text/x-python",
   "name": "python",
   "nbconvert_exporter": "python",
   "pygments_lexer": "ipython3",
   "version": "3.12.4"
  }
 },
 "nbformat": 4,
 "nbformat_minor": 5
}
